{
 "cells": [
  {
   "cell_type": "markdown",
   "id": "7b7ad33f",
   "metadata": {},
   "source": [
    "# Image Generation from Process Models\n",
    "This notebook can be used to render BPMN diagrams; it is based on the notebook [here](https://github.com/signavio/sap-sam/blob/main/notebooks/3_images_and_XMLs.ipynb)\n",
    "\n",
    "## Setup\n",
    "In order to render images, we need to create an account on [academic.signavio.com](academic.signavio.com) or on a commercial SAP Signavio system instance. To setup the integration with your SAP Signavio workspace, we create a file named ``conf.py`` in the `notebooks` directory of this project and specify the following variables:\n",
    "\n",
    "* ``email``: the email address with which you have registered your account.\n",
    "* ``pw``: your password -- use a password you do not use elsewhere and do not commit/share the ``conf.py`` file.\n",
    "* ``tenant_id``: the ID of your workspace, which can be obtained by selecting **Help** - **Workspace information** in the explorer of SAP Signavio Process Manager.\n",
    "* ``system_instance``: ``'https://academic.signavio.com'`` or the URL of a commercial system instance.\n",
    "\n",
    "Below, we see an example configuration file:\n",
    "\n",
    "```\n",
    "email = 'jane@doe.org'\n",
    "pw = '1234546'\n",
    "tenant_id = 'cb0f0496e0ca1234562e881f9f654321'\n",
    "system_instance = https://academic.signavio.com\n",
    "```\n",
    "\n",
    "This allows the underlying code to upload diagrams to a specific folder (named `SAP-SAM`) in your workspace so that the server can generate an image (PNG).\n",
    "The folder does not need to be created manually (the SAP-SAM API takes care of this).\n",
    "\n",
    "We import the following dependencies:"
   ]
  },
  {
   "cell_type": "code",
   "execution_count": null,
   "id": "fb18509e",
   "metadata": {},
   "outputs": [],
   "source": [
    "from IPython.display import Image, display\n",
    "import json\n",
    "import os\n",
    "import pandas as pd\n",
    "import xml.etree.ElementTree as ET\n",
    "from pathlib import Path\n",
    "pd.set_option(\"display.min_rows\", 4)\n",
    "from ImageGenerator import ImageGenerator\n",
    "\n",
    "from semconstmining.config import Config\n",
    "from semconstmining.parsing.label_parser.nlp_helper import NlpHelper\n",
    "from semconstmining.main import get_resource_handler"
   ]
  },
  {
   "cell_type": "markdown",
   "id": "48ee10a3",
   "metadata": {},
   "source": [
    "## Loading Content"
   ]
  },
  {
   "cell_type": "code",
   "execution_count": null,
   "id": "fd03e387",
   "metadata": {},
   "outputs": [],
   "source": [
    "MODEL_COLLECTION = \"semantic_sap_sam_filtered\"\n",
    "\n",
    "conf = Config(Path(os.getcwd()).parents[1].resolve(), MODEL_COLLECTION)\n",
    "nlp_helper = NlpHelper(conf)\n",
    "resource_handler = get_resource_handler(conf, nlp_helper)"
   ]
  },
  {
   "cell_type": "code",
   "execution_count": null,
   "id": "2f0a3173",
   "metadata": {},
   "outputs": [],
   "source": [
    "resource_handler.bpmn_models"
   ]
  },
  {
   "cell_type": "code",
   "execution_count": null,
   "id": "09960c16",
   "metadata": {},
   "outputs": [],
   "source": [
    "MODEL_ID = \"6d39679f96bf44ee90082a4d98aee8f2\"\n",
    "\n",
    "model_info = resource_handler.bpmn_models.loc[MODEL_ID]\n",
    "model_json = model_info[\"model_json\"]"
   ]
  },
  {
   "cell_type": "markdown",
   "id": "8bb487f6",
   "metadata": {},
   "source": [
    "In addition, we need the model's namespace and name:"
   ]
  },
  {
   "cell_type": "code",
   "execution_count": null,
   "id": "02d07978",
   "metadata": {},
   "outputs": [],
   "source": [
    "model_namespace = \"http://b3mn.org/stencilset/bpmn2.0#\"\n",
    "# If the name cannot be obtained, the diagram can be named manually or by using a dummy label\n",
    "model_name = json.loads(model_json)['properties']['name']\n",
    "if model_name == \"\":\n",
    "    model_name = MODEL_ID\n",
    "print('Namespace:', model_namespace)\n",
    "print('Name:', model_name)"
   ]
  },
  {
   "cell_type": "markdown",
   "id": "9f9fff2c",
   "metadata": {},
   "source": [
    "## Rendering Images\n",
    "Now, we can use the SAP-SAM API to create the diagram in SAP Signavio Process Manager and have it generate the image:"
   ]
  },
  {
   "cell_type": "code",
   "execution_count": null,
   "id": "183260ad",
   "metadata": {},
   "outputs": [],
   "source": [
    "gen = ImageGenerator()\n",
    "image_request = gen.generate_image(model_name, model_json, model_namespace)\n",
    "display(Image(image_request))"
   ]
  },
  {
   "cell_type": "markdown",
   "id": "c9484087",
   "metadata": {
    "pycharm": {
     "name": "#%% md\n"
    }
   },
   "source": [
    "Note that the diagram was stored in the `SAP-SAM` folder of the SAP Signavio workspace, but is deleted immediately after the PNG is obtained. In case deletion is undesired, change the method call to `gen.generate_image(model_name, model_json, model_namespace, deletes=False)`."
   ]
  }
 ],
 "metadata": {
  "kernelspec": {
   "display_name": "Python 3 (ipykernel)",
   "language": "python",
   "name": "python3"
  },
  "language_info": {
   "codemirror_mode": {
    "name": "ipython",
    "version": 3
   },
   "file_extension": ".py",
   "mimetype": "text/x-python",
   "name": "python",
   "nbconvert_exporter": "python",
   "pygments_lexer": "ipython3",
   "version": "3.9.15"
  }
 },
 "nbformat": 4,
 "nbformat_minor": 5
}